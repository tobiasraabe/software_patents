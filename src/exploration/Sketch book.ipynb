{
 "cells": [
  {
   "cell_type": "markdown",
   "metadata": {},
   "source": [
    "# Machine Learning"
   ]
  },
  {
   "cell_type": "code",
   "execution_count": 1,
   "metadata": {
    "collapsed": false
   },
   "outputs": [
    {
     "name": "stdout",
     "output_type": "stream",
     "text": [
      "Populating the interactive namespace from numpy and matplotlib\n"
     ]
    }
   ],
   "source": [
    "%pylab inline\n",
    "import pandas as pd\n",
    "import os\n",
    "import numpy as np\n",
    "from ggplot import *\n",
    "from tabulate import tabulate\n",
    "import multiprocessing as mp"
   ]
  },
  {
   "cell_type": "markdown",
   "metadata": {},
   "source": [
    "## 1. Data Manipulation and Preparation"
   ]
  },
  {
   "cell_type": "code",
   "execution_count": 2,
   "metadata": {
    "collapsed": true
   },
   "outputs": [],
   "source": [
    "os.chdir(r'C:\\Users\\Tobias\\OneDrive\\Bachelor Thesis\\Empirical Look at Software Patents\\test')"
   ]
  },
  {
   "cell_type": "code",
   "execution_count": 3,
   "metadata": {
    "collapsed": true
   },
   "outputs": [],
   "source": [
    "dfluk = pd.read_excel('class_lukas.xlsx') ### Classifications by Lukas\n",
    "dfbh = pd.read_stata('BH2007.dta') ### Classifications by Bessen & Hunt (2007)"
   ]
  },
  {
   "cell_type": "markdown",
   "metadata": {},
   "source": [
    "##### Preparation Lukas"
   ]
  },
  {
   "cell_type": "code",
   "execution_count": 4,
   "metadata": {
    "collapsed": true
   },
   "outputs": [],
   "source": [
    "dfluk['software_man_class'] = ((dfluk.Classification == 1) & (dfluk.Cognitive == 1))\n",
    "\n",
    "dfluk = dfluk[['Patent number', 'Highly uncertain', 'software_man_class']]\n",
    "\n",
    "dfluk.columns = ['patentnr', 'highly_uncertain', 'software_man_class']\n",
    "\n",
    "dfluk['test_sample'] = False\n",
    "\n",
    "d = {0: False, 1: True, 2: True}\n",
    "dfluk.highly_uncertain = dfluk.highly_uncertain.map(d)"
   ]
  },
  {
   "cell_type": "markdown",
   "metadata": {},
   "source": [
    "##### Preparation BH2007 Classification"
   ]
  },
  {
   "cell_type": "code",
   "execution_count": 5,
   "metadata": {
    "collapsed": true
   },
   "outputs": [],
   "source": [
    "dfbh = dfbh[['patentnr', 'software_man_class']]\n",
    "dfbh['test_sample'] = True\n",
    "dfbh['highly_uncertain'] = False\n",
    "\n",
    "dfbh.patentnr = dfbh.patentnr.astype(np.int64)\n",
    "\n",
    "d = {0: False, 1: True, 2: True}\n",
    "dfbh.software_man_class = dfbh.software_man_class.map(d)"
   ]
  },
  {
   "cell_type": "markdown",
   "metadata": {},
   "source": [
    "##### Merging both classications"
   ]
  },
  {
   "cell_type": "code",
   "execution_count": 6,
   "metadata": {
    "collapsed": true
   },
   "outputs": [],
   "source": [
    "prev_res = pd.concat([dfluk, dfbh], axis=0, ignore_index=True)"
   ]
  },
  {
   "cell_type": "markdown",
   "metadata": {},
   "source": [
    "##### Preparation Patsearch Results"
   ]
  },
  {
   "cell_type": "code",
   "execution_count": 11,
   "metadata": {
    "collapsed": false
   },
   "outputs": [
    {
     "name": "stderr",
     "output_type": "stream",
     "text": [
      "C:\\Anaconda3\\lib\\site-packages\\pandas\\io\\parsers.py:1170: DtypeWarning: Columns (2) have mixed types. Specify dtype option on import or set low_memory=False.\n",
      "  data = self._reader.read(nrows)\n"
     ]
    }
   ],
   "source": [
    "dfpat = pd.read_csv('patsearch_results_1976-2015_BH2007.csv', usecols=['patentnr', 'classnr', 'week', 'year'], index_col=0)\n",
    "dfpat = dfpat.reset_index()"
   ]
  },
  {
   "cell_type": "markdown",
   "metadata": {},
   "source": [
    "##### Merging Classification and Patsearch Results"
   ]
  },
  {
   "cell_type": "code",
   "execution_count": 12,
   "metadata": {
    "collapsed": true
   },
   "outputs": [],
   "source": [
    "result = pd.merge(prev_res, dfpat, how='left', on='patentnr')\n",
    "result = result.dropna(axis=0).reset_index()"
   ]
  },
  {
   "cell_type": "code",
   "execution_count": 13,
   "metadata": {
    "collapsed": true
   },
   "outputs": [],
   "source": [
    "result.to_pickle('classified_sample.pickle')"
   ]
  },
  {
   "cell_type": "markdown",
   "metadata": {},
   "source": [
    "##### Crawling text data for Classification.csv and create the Corpora"
   ]
  },
  {
   "cell_type": "code",
   "execution_count": 15,
   "metadata": {
    "collapsed": true
   },
   "outputs": [],
   "source": [
    "import requests\n",
    "from bs4 import BeautifulSoup\n",
    "\n",
    "def parse_pattext(patentnr):\n",
    "\n",
    "    patentnr = str(patentnr)\n",
    "\n",
    "    patent = 'US' + patentnr\n",
    "    url = 'https://www.google.de/patents/' + patent\n",
    "    result = requests.get(url)\n",
    "    htmldoc = result.text\n",
    "    soup = BeautifulSoup(htmldoc, 'html.parser')\n",
    "\n",
    "\n",
    "    abstract = soup.find(attrs={'class': 'abstract'}).text\n",
    "    description = soup.find(attrs={'class': 'description'}).text\n",
    "\n",
    "    text = abstract + description\n",
    "    return text"
   ]
  },
  {
   "cell_type": "code",
   "execution_count": 16,
   "metadata": {
    "collapsed": true
   },
   "outputs": [],
   "source": [
    "######## Writing texts in Pandas DataFrame\n",
    "import pandas as pd\n",
    "\n",
    "dfsam = pd.read_pickle('classified_sample.pickle')\n",
    "dfsam['label'] = dfsam.software_man_class.map({True: 'software', False: 'nonsoftware'})\n",
    "dfsam['text'] = [parse_pattext(k) for k in dfsam.patentnr]\n",
    "dfsam.to_pickle('classified_sample_wtext.pickle')"
   ]
  },
  {
   "cell_type": "markdown",
   "metadata": {},
   "source": [
    "##### Splitting DataFrame into Training and Test Dataset"
   ]
  },
  {
   "cell_type": "code",
   "execution_count": null,
   "metadata": {
    "collapsed": true
   },
   "outputs": [],
   "source": [
    "df = read_pickle('classified_sample_wtext.pickle')\n",
    "dftrain = (df.test_sample == False)\n",
    "dftrain.reset_index.to_pickle('train_sample.pickle')\n",
    "dftest = (df.test_sample == True)\n",
    "dftest.reset_index().to_pickle('test_sample.pickle')"
   ]
  },
  {
   "cell_type": "markdown",
   "metadata": {},
   "source": [
    "## 3. Text Processing"
   ]
  },
  {
   "cell_type": "markdown",
   "metadata": {},
   "source": [
    "##### Open Corpus"
   ]
  },
  {
   "cell_type": "code",
   "execution_count": 3,
   "metadata": {
    "collapsed": true
   },
   "outputs": [],
   "source": [
    "dftrain = pd.read_pickle('train_sample.pickle')\n",
    "dftrain = dftrain[['label', 'text']]\n",
    "dftest = pd.read_pickle('test_sample.pickle')\n",
    "dftest = dftest[['label', 'text']]"
   ]
  },
  {
   "cell_type": "markdown",
   "metadata": {},
   "source": [
    "##### Code which is shown in detail and later replaced by pipeline"
   ]
  },
  {
   "cell_type": "code",
   "execution_count": 4,
   "metadata": {
    "collapsed": true
   },
   "outputs": [],
   "source": [
    "# ### Tokenizing\n",
    "# from sklearn.feature_extraction.text import CountVectorizer\n",
    "# count_vect = CountVectorizer()\n",
    "\n",
    "# X_train_counts = count_vect.fit_transform(dftrain.text.values)\n",
    "# print(X_train_counts.shape)\n",
    "\n",
    "# ### From occurences to frequencies (tf-idf)\n",
    "# from sklearn.feature_extraction.text import TfidfTransformer\n",
    "# tfidf_transformer = TfidfTransformer()\n",
    "\n",
    "# X_train_tfidf = tfidf_transformer.fit_transform(X_train_counts)\n",
    "# print(X_train_tfidf.shape)\n",
    "\n",
    "# ### Training a classifier\n",
    "# ######## Specifying target (or label)\n",
    "# target = dftrain.label.values\n",
    "\n",
    "# from sklearn.naive_bayes import MultinomialNB\n",
    "\n",
    "# clf = MultinomialNB().fit(X_train_tfidf, target)"
   ]
  },
  {
   "cell_type": "markdown",
   "metadata": {},
   "source": [
    "##### Building a pipeline"
   ]
  },
  {
   "cell_type": "code",
   "execution_count": 4,
   "metadata": {
    "collapsed": true
   },
   "outputs": [],
   "source": [
    "from sklearn.feature_extraction.text import CountVectorizer\n",
    "from sklearn.feature_extraction.text import TfidfTransformer\n",
    "from sklearn.naive_bayes import MultinomialNB\n",
    "from sklearn.pipeline import Pipeline\n",
    "\n",
    "# MultinomialNaiveBayes works only with integers\n",
    "text_clf = Pipeline([\n",
    "        ('vect', CountVectorizer()),\n",
    "#        ('tfidf', TfidfTransformer(use_idf=False)),\n",
    "        ('clf', MultinomialNB()),\n",
    "                    ])"
   ]
  },
  {
   "cell_type": "markdown",
   "metadata": {},
   "source": [
    "##### Training a classifier"
   ]
  },
  {
   "cell_type": "code",
   "execution_count": 5,
   "metadata": {
    "collapsed": true
   },
   "outputs": [],
   "source": [
    "text_clf = text_clf.fit(dftrain.text.values, dftrain.label.values)"
   ]
  },
  {
   "cell_type": "markdown",
   "metadata": {},
   "source": [
    "##### Evaluation of the performance on the test set"
   ]
  },
  {
   "cell_type": "code",
   "execution_count": 6,
   "metadata": {
    "collapsed": false
   },
   "outputs": [
    {
     "name": "stdout",
     "output_type": "stream",
     "text": [
      "             precision    recall  f1-score   support\n",
      "\n",
      "nonsoftware       0.97      0.83      0.89       345\n",
      "   software       0.43      0.81      0.56        54\n",
      "\n",
      "avg / total       0.89      0.83      0.85       399\n",
      "\n",
      "[[286  59]\n",
      " [ 10  44]]\n"
     ]
    }
   ],
   "source": [
    "import numpy as np\n",
    "\n",
    "predicted = text_clf.predict(dftest.text.values)\n",
    "\n",
    "from sklearn import metrics\n",
    "print(metrics.classification_report(dftest.label.values, predicted, target_names=['nonsoftware', 'software']))\n",
    "print(metrics.confusion_matrix(dftest.label.values, predicted))"
   ]
  },
  {
   "cell_type": "markdown",
   "metadata": {},
   "source": [
    "##### Using SVM classifier"
   ]
  },
  {
   "cell_type": "code",
   "execution_count": 13,
   "metadata": {
    "collapsed": false
   },
   "outputs": [
    {
     "name": "stdout",
     "output_type": "stream",
     "text": [
      "             precision    recall  f1-score   support\n",
      "\n",
      "nonsoftware       0.97      0.76      0.85       345\n",
      "   software       0.35      0.83      0.49        54\n",
      "\n",
      "avg / total       0.88      0.77      0.80       399\n",
      "\n",
      "[[261  84]\n",
      " [  9  45]]\n"
     ]
    }
   ],
   "source": [
    "from sklearn.linear_model import SGDClassifier\n",
    "text_clf = Pipeline([('vect', CountVectorizer()),\n",
    "#                      ('tfidf', TfidfTransformer(use_idf=False)), #works better without tf\n",
    "                      ('clf', SGDClassifier(loss='hinge', penalty='l2',\n",
    "                                            alpha=1e-3, n_iter=5, random_state=42)),\n",
    "                    ])\n",
    "_ = text_clf.fit(dftrain.text.values, dftrain.label.values)\n",
    "docs_test = dftest.text.values\n",
    "predicted = text_clf.predict(docs_test)\n",
    "np.mean(predicted == dftest.label.values)\n",
    "\n",
    "from sklearn import metrics\n",
    "print(metrics.classification_report(dftest.label.values, predicted, target_names=['nonsoftware', 'software']))\n",
    "print(metrics.confusion_matrix(dftest.label.values, predicted))"
   ]
  },
  {
   "cell_type": "markdown",
   "metadata": {},
   "source": [
    "##### Grid-seaerch for MultinomialNB"
   ]
  },
  {
   "cell_type": "code",
   "execution_count": null,
   "metadata": {
    "collapsed": true
   },
   "outputs": [],
   "source": [
    "from sklearn.feature_extraction.text import CountVectorizer\n",
    "from sklearn.feature_extraction.text import TfidfTransformer\n",
    "from sklearn.naive_bayes import MultinomialNB\n",
    "from sklearn.pipeline import Pipeline\n",
    "\n",
    "from sklearn.grid_search import GridSearchCV\n",
    "parameters = {'vect__ngram_range': [(1, 1), (1, 2), (1,3)],\n",
    "#              'vect__binary': (True, False),\n",
    "#              'tfidf__use_idf': (True, False),\n",
    "#              'clf__alpha': (1e-2, 1e-3),\n",
    "#              'clf__fit_prior': (True, False),\n",
    "}\n",
    "\n",
    "text_clf = Pipeline([('vect', CountVectorizer()),\n",
    "#                     ('tfidf', TfidfTransformer()),\n",
    "                     ('clf', MultinomialNB()),\n",
    "                    ])\n",
    "\n",
    "gs_clf = GridSearchCV(text_clf, parameters, n_jobs=-1, scoring='roc_auc')\n",
    "gs_clf = gs_clf.fit(dftrain.text.values, dftrain.label.values)\n",
    "\n",
    "best_parameters, score, _ = max(gs_clf.grid_scores_, key=lambda x: x[1])\n",
    "for param_name in sorted(parameters.keys()):\n",
    "    print(\"%s: %r\" % (param_name, best_parameters[param_name]))"
   ]
  },
  {
   "cell_type": "code",
   "execution_count": 15,
   "metadata": {
    "collapsed": false
   },
   "outputs": [
    {
     "name": "stdout",
     "output_type": "stream",
     "text": [
      "             precision    recall  f1-score   support\n",
      "\n",
      "nonsoftware       0.89      0.98      0.93       345\n",
      "   software       0.61      0.20      0.31        54\n",
      "\n",
      "avg / total       0.85      0.87      0.85       399\n",
      "\n",
      "[[338   7]\n",
      " [ 43  11]]\n"
     ]
    }
   ],
   "source": [
    "from sklearn.feature_extraction.text import CountVectorizer\n",
    "from sklearn.feature_extraction.text import TfidfTransformer\n",
    "from sklearn.naive_bayes import MultinomialNB\n",
    "from sklearn.pipeline import Pipeline\n",
    "\n",
    "# MultinomialNaiveBayes works only with integers\n",
    "text_clf = Pipeline([\n",
    "        ('vect', CountVectorizer(binary=True, ngram_range=(1,2))),\n",
    "#        ('tfidf', TfidfTransformer(use_idf=False)),\n",
    "        ('clf', MultinomialNB(alpha=1e-2, fit_prior=True)),\n",
    "                    ])\n",
    "\n",
    "text_clf = text_clf.fit(dftrain.text.values, dftrain.label.values)\n",
    "\n",
    "docs_test = dftest.text.values\n",
    "predicted = text_clf.predict(docs_test)\n",
    "\n",
    "from sklearn import metrics\n",
    "print(metrics.classification_report(dftest.label.values, predicted, target_names=['nonsoftware', 'software']))\n",
    "print(metrics.confusion_matrix(dftest.label.values, predicted))"
   ]
  },
  {
   "cell_type": "markdown",
   "metadata": {},
   "source": [
    "I'm not really happy with this result, since I think grid search maximized the f-score, but then it improves the result on nonsoftware patents."
   ]
  },
  {
   "cell_type": "markdown",
   "metadata": {},
   "source": [
    "##### Grid-search for SVM"
   ]
  },
  {
   "cell_type": "code",
   "execution_count": null,
   "metadata": {
    "collapsed": true
   },
   "outputs": [],
   "source": [
    "from sklearn.grid_search import GridSearchCV\n",
    "parameters = {'vect__ngram_range': [(1, 1), (1, 2)],\n",
    "#              'tfidf__use_idf': (True, False),\n",
    "              'clf__alpha': (1e-2, 1e-3),\n",
    "}\n",
    "\n",
    "text_clf = Pipeline([('vect', CountVectorizer()),\n",
    "#                     ('tfidf', TfidfTransformer()),\n",
    "                     ('clf', SGDClassifier(loss='hinge', penalty='l2', n_iter=5, random_state=42)),\n",
    "                    ])\n",
    "\n",
    "gs_clf = GridSearchCV(text_clf, parameters, n_jobs=-1, scoring='roc_auc')\n",
    "gs_clf = gs_clf.fit(dftrain.text.values, dftrain.label.values)\n",
    "\n",
    "best_parameters, score, _ = max(gs_clf.grid_scores_, key=lambda x: x[1])\n",
    "for param_name in sorted(parameters.keys()):\n",
    "    print(\"%s: %r\" % (param_name, best_parameters[param_name]))"
   ]
  },
  {
   "cell_type": "markdown",
   "metadata": {},
   "source": [
    "# Parsing the patents text"
   ]
  },
  {
   "cell_type": "code",
   "execution_count": 13,
   "metadata": {
    "collapsed": true
   },
   "outputs": [],
   "source": [
    "import requests\n",
    "from bs4 import BeautifulSoup\n",
    "\n",
    "def parse_pattext(patentnr):\n",
    "    patent = 'US' + patentnr\n",
    "    url = 'https://www.google.de/patents/' + patent\n",
    "    result = requests.get(url)\n",
    "    htmldoc = result.text\n",
    "    soup = BeautifulSoup(htmldoc, 'html.parser')\n",
    "\n",
    "\n",
    "    abstract = soup.find(attrs={'class' : 'abstract'}).text\n",
    "    description = soup.find(attrs={'class' : 'description'}).text\n",
    "    \n",
    "    if abstract == None:\n",
    "        print('No abstract found for ' + patentnr + '!')\n",
    "        RuntimeError\n",
    "    elif description == None:\n",
    "        print('No description found for ' + patentnr + '!')\n",
    "        RuntimeError\n",
    "    else:\n",
    "        try:\n",
    "            os.mkdir('texts')\n",
    "        except FileExistsError:\n",
    "            pass\n",
    "        with open('texts/' + patentnr + '_abstract.txt', 'wb') as text_file:\n",
    "            text_file.write(bytes(abstract, 'UTF-8'))\n",
    "        with open('texts/' + patentnr + '_description.txt', 'wb') as text_file:\n",
    "            text_file.write(bytes(description, 'UTF-8'))\n",
    "#array = [abstract, description]\n",
    "#return array"
   ]
  },
  {
   "cell_type": "code",
   "execution_count": 132,
   "metadata": {
    "collapsed": true
   },
   "outputs": [],
   "source": [
    "import pandas as pd\n",
    "df =  pd.read_csv('BH2007_merged.csv', index_col=0)"
   ]
  },
  {
   "cell_type": "code",
   "execution_count": null,
   "metadata": {
    "collapsed": true
   },
   "outputs": [],
   "source": [
    "for item in df.patentnr:\n",
    "    parse_pattext(str(item))"
   ]
  },
  {
   "cell_type": "markdown",
   "metadata": {},
   "source": [
    "# Comparing BH2007 algorithm with my replication"
   ]
  },
  {
   "cell_type": "code",
   "execution_count": 1,
   "metadata": {
    "collapsed": false
   },
   "outputs": [
    {
     "name": "stdout",
     "output_type": "stream",
     "text": [
      "Populating the interactive namespace from numpy and matplotlib\n"
     ]
    }
   ],
   "source": [
    "%pylab inline\n",
    "import pandas as pd\n",
    "import os\n",
    "import numpy as np\n",
    "from scipy.io import loadmat\n",
    "from ggplot import *\n",
    "from tabulate import tabulate\n",
    "from sklearn import metrics\n",
    "from sklearn.metrics import roc_auc_score\n",
    "from skll.metrics import kappa"
   ]
  },
  {
   "cell_type": "code",
   "execution_count": 2,
   "metadata": {
    "collapsed": true
   },
   "outputs": [],
   "source": [
    "os.chdir(r'C:\\Users\\Tobias\\OneDrive\\Bachelor Thesis\\Empirical Look at Software Patents\\test')"
   ]
  },
  {
   "cell_type": "code",
   "execution_count": null,
   "metadata": {
    "collapsed": true
   },
   "outputs": [],
   "source": [
    "df = pd.read_csv('patsearch_results_1976-2015_BH2007.csv', index_col=0)\n",
    "bh = pd.read_stata('BH2007.dta')"
   ]
  },
  {
   "cell_type": "markdown",
   "metadata": {},
   "source": [
    "#### Merge datasets and clean 'nan' which are perhaps results of witddrawals and create two versions of the software_man_class due to values equal to 2"
   ]
  },
  {
   "cell_type": "code",
   "execution_count": 77,
   "metadata": {
    "collapsed": true
   },
   "outputs": [],
   "source": [
    "result = pd.merge(bh, df, how='left', on='patentnr')\n",
    "result = result.dropna() # or index specific result = result.drop(result.index[pd.isnull(result).any(1).nonzero()[0])\n",
    "result['smcw2'] = (result.software_man_class >= 1)\n",
    "result['smcwo2'] = (result.software_man_class == 1)\n",
    "result.to_csv('BH2007_merged.csv')"
   ]
  },
  {
   "cell_type": "markdown",
   "metadata": {},
   "source": [
    "## The algorithms"
   ]
  },
  {
   "cell_type": "code",
   "execution_count": 4,
   "metadata": {
    "collapsed": true
   },
   "outputs": [],
   "source": [
    "def algorithm_results(dataset, benchmark, algo):\n",
    "    result['tp_w2'] = ((result[algo] == True) & (result[benchmark] == True))\n",
    "    result['fp_w2'] = ((result[algo] == True) & (result[benchmark] == False))\n",
    "    result['fn_w2'] = ((result[algo] == False) & (result[benchmark] == True))\n",
    "    result['tn_w2'] = ((result[algo] == False) & (result[benchmark] == False))\n",
    "\n",
    "    tp_w2 = result.tp_w2.value_counts()[1]\n",
    "    fp_w2 = result.fp_w2.value_counts()[1]\n",
    "    fn_w2 = result.fn_w2.value_counts()[1]\n",
    "    tn_w2 = result.tn_w2.value_counts()[1]\n",
    "\n",
    "    table = [['Retrieved', tp_w2, fp_w2], ['Not Retrieved', fn_w2, tn_w2]]\n",
    "    print(tabulate(table, headers=[' ', 'Relevant', 'Not Relevant']))\n",
    "    print('Power = ' + str(tp_w2/(tp_w2 + fn_w2)))\n",
    "    print('Accuracy = ' + str(fp_w2/(tp_w2+fp_w2)))\n",
    "    print('Precision = ' + str(tp_w2/(tp_w2+fp_w2)))\n",
    "    print('Recall = ' + str(tp_w2/(tp_w2+fn_w2)))"
   ]
  },
  {
   "cell_type": "markdown",
   "metadata": {},
   "source": [
    "### Replication of BH2007 with their own algorithm-based classification"
   ]
  },
  {
   "cell_type": "code",
   "execution_count": 5,
   "metadata": {
    "collapsed": false
   },
   "outputs": [
    {
     "name": "stdout",
     "output_type": "stream",
     "text": [
      "                 Relevant    Not Relevant\n",
      "-------------  ----------  --------------\n",
      "Retrieved              42               8\n",
      "Not Retrieved          12             337\n",
      "Power = 0.777777777778\n",
      "Accuracy = 0.16\n",
      "Precision = 0.84\n",
      "Recall = 0.777777777778\n",
      "             precision    recall  f1-score   support\n",
      "\n",
      "nonsoftware       0.97      0.98      0.97       345\n",
      "   software       0.84      0.78      0.81        54\n",
      "\n",
      "avg / total       0.95      0.95      0.95       399\n",
      "\n",
      "[[337   8]\n",
      " [ 12  42]]\n",
      "0.87729468599\n",
      "0.77892287234\n"
     ]
    }
   ],
   "source": [
    "result = pd.read_csv('BH2007_merged.csv', index_col=0)\n",
    "algorithm_results(result, 'smcw2', 'software_algo_class')\n",
    "\n",
    "print(metrics.classification_report(result.smcw2, result.software_algo_class, target_names=['nonsoftware', 'software']))\n",
    "print(metrics.confusion_matrix(result.smcw2, result.software_algo_class))\n",
    "print(roc_auc_score(result.smcw2, result.software_algo_class, average='weighted', sample_weight=None))\n",
    "print(kappa(result.smcw2, result.software_algo_class))"
   ]
  },
  {
   "cell_type": "code",
   "execution_count": 16,
   "metadata": {
    "collapsed": true
   },
   "outputs": [],
   "source": [
    "%%capture\n",
    "algorithm_results(result, 'smcwo2', 'software_algo_class')"
   ]
  },
  {
   "cell_type": "markdown",
   "metadata": {},
   "source": [
    "### Replication of BH2007 with my replication of the alogrithm"
   ]
  },
  {
   "cell_type": "markdown",
   "metadata": {},
   "source": [
    "#### Two outputs which represent the combinations of BH2007 and smcw2 (software_man_class == 2 included) (specification = abstract + body)"
   ]
  },
  {
   "cell_type": "code",
   "execution_count": 7,
   "metadata": {
    "collapsed": false
   },
   "outputs": [
    {
     "name": "stdout",
     "output_type": "stream",
     "text": [
      "                 Relevant    Not Relevant\n",
      "-------------  ----------  --------------\n",
      "Retrieved              45              18\n",
      "Not Retrieved           9             327\n",
      "Power = 0.833333333333\n",
      "Accuracy = 0.285714285714\n",
      "Precision = 0.714285714286\n",
      "Recall = 0.833333333333\n",
      "             precision    recall  f1-score   support\n",
      "\n",
      "nonsoftware       0.97      0.95      0.96       345\n",
      "   software       0.71      0.83      0.77        54\n",
      "\n",
      "avg / total       0.94      0.93      0.93       399\n",
      "\n",
      "[[327  18]\n",
      " [  9  45]]\n",
      "0.729857819905\n"
     ]
    }
   ],
   "source": [
    "algorithm_results(result, 'smcw2', 'BH2007')\n",
    "\n",
    "print(metrics.classification_report(result.smcw2, result.BH2007, target_names=['nonsoftware', 'software']))\n",
    "print(metrics.confusion_matrix(result.smcw2, result.BH2007))\n",
    "print(kappa(result.smcw2, result.BH2007))"
   ]
  },
  {
   "cell_type": "code",
   "execution_count": 13,
   "metadata": {
    "collapsed": true
   },
   "outputs": [],
   "source": [
    "%%capture\n",
    "algorithm_results(result, 'smcwo2', 'BH2007');"
   ]
  },
  {
   "cell_type": "markdown",
   "metadata": {},
   "source": [
    "#### Two outputs which represent the combinations of BH2007_woabs and smcwo2 (software_man_class == 2 excluded) (specification = body)"
   ]
  },
  {
   "cell_type": "code",
   "execution_count": 17,
   "metadata": {
    "collapsed": true
   },
   "outputs": [],
   "source": [
    "%%capture\n",
    "algorithm_results(result, 'smcw2', 'BH2007_woabs')"
   ]
  },
  {
   "cell_type": "code",
   "execution_count": 14,
   "metadata": {
    "collapsed": true
   },
   "outputs": [],
   "source": [
    "%%capture\n",
    "algorithm_results(result, 'smcwo2', 'BH2007_woabs');"
   ]
  },
  {
   "cell_type": "markdown",
   "metadata": {},
   "source": [
    "### Conclusion\n",
    "I can replicate their results with their data. But my algorithm provides different results. The fp are lower in contrast to the fn, which are higher. Therefore, my algorithm has lower precision with a higher recall.\n",
    "\n",
    "Additional facts:\n",
    "- with twos is the correct specification according two the paper replication.\n",
    "- with or without abstract makes no difference on that sample for my alogrithm (so I choose with)"
   ]
  },
  {
   "cell_type": "markdown",
   "metadata": {},
   "source": [
    "## Concepts for algorithm evaluation\n",
    "At first the need of an algorithm arises, since we are not able to classify the whole amount of patents due to resource constraints.\n",
    "The evaluation of our algorithm is neccessary to the whole discussion, since we want to be sure whether our method provides the correct information and is reliable. There are several concepts because they consider the structure of information and weight the different kinds of errors.\n",
    "\n",
    "Terminology: tp = true positive, fn = false negative and other combinations; relevant = identified by classification, retrieved = identified by algorithm\n",
    "\n",
    "#### Accuracy\n",
    "Accuracy is the ratio of correctly identified information to the whole amount of information. For Accuracy the $\\alpha$ error (fp) is as important as the $\\beta$ error (fn) since tp and tn are added up and are not in relation to fp and fn.\n",
    "\\begin{align}\n",
    "\\text{Accuracy} = \\frac{tp + tn}{tp + fp + tn + fn}\n",
    "\\end{align}\n",
    "This measure is especially imprecise if the data is skew. In this case the proportion of software patents to other patents is relatively small. So, an algorithm which does not retrieve a single patent would have an acceptable accuracy, but would make huge mistakes for false negatives (fn).\n",
    "\n",
    "#### Precision and Recall\n",
    "Precision and Recall is another concept to evaluate the information provided by an algorithm. Firstly, precision is the ratio of relevant and retrieved information to the amount of retrieved information or the ratio:\n",
    "\\begin{align}\n",
    "\\text{Precision} = \\frac{\\text{#(relevant items retrieved)}}{\\text{#(retrieved items)}} = P(\\text{relevant}|\\text{retrieved})\n",
    "\\end{align}\n",
    "Secondly, recall is the ratio of relevant and retrieved information to the amount of relevant information.\n",
    "\\begin{align}\n",
    "\\text{Recall} = \\frac{\\text{#(relevant items retrieved)}}{\\text{#(relevant items)}} = P(\\text{retrieved}|\\text{relevant})\n",
    "\\end{align}\n",
    "In conclusion, the concept of precision and recall relates the number of tp to $\\alpha$ and $\\beta$ errors and returns values for each relation.\n",
    "\\begin{align}\n",
    "P &= \\frac{tp}{tp+fp}\\\\\n",
    "R &= \\frac{tp}{tp+fn}\n",
    "\\end{align}\n",
    "\n",
    "It is extremly useful to have two different values given by precision and recall, since you face situations in which one quality is better than the other. For example, web surfers demand from web search engines high precision, since they only want the first ten results to be relevant. In contrast, recall is especially valuable to individual searches on harddisks.\n",
    "Because you can always achieve a recall value of one by retrieving all documents there is clear trade off between both where recall is non-decreasing and precision normally decreasing in the number retrieved items.\n",
    "\n",
    "#### F Measure\n",
    "\n",
    "\n",
    "##### All information is taken from 'An Introduction to Information Retrieval' (p. 191ff)"
   ]
  },
  {
   "cell_type": "markdown",
   "metadata": {},
   "source": [
    "# Code for Graphs of Software Patent Development"
   ]
  },
  {
   "cell_type": "code",
   "execution_count": 14,
   "metadata": {
    "collapsed": false
   },
   "outputs": [
    {
     "name": "stdout",
     "output_type": "stream",
     "text": [
      "Populating the interactive namespace from numpy and matplotlib\n"
     ]
    },
    {
     "name": "stderr",
     "output_type": "stream",
     "text": [
      "WARNING: pylab import has clobbered these variables: ['ylim', 'xlim']\n",
      "`%matplotlib` prevents importing * from pylab and numpy\n"
     ]
    }
   ],
   "source": [
    "%pylab inline\n",
    "import pandas as pd\n",
    "import os\n",
    "import numpy as np\n",
    "from scipy.io import loadmat\n",
    "from ggplot import *\n",
    "from tabulate import tabulate"
   ]
  },
  {
   "cell_type": "code",
   "execution_count": 15,
   "metadata": {
    "collapsed": true
   },
   "outputs": [],
   "source": [
    "os.chdir(r'C:\\Users\\Tobias\\OneDrive\\Bachelor Thesis\\Empirical Look at Software Patents\\test')"
   ]
  },
  {
   "cell_type": "code",
   "execution_count": 16,
   "metadata": {
    "collapsed": true
   },
   "outputs": [],
   "source": [
    "df = pd.read_csv('patsearch_results_1976-2015_BH2007.csv', index_col=0, usecols=['patentnr', 'year', 'BH2007'])"
   ]
  },
  {
   "cell_type": "code",
   "execution_count": 20,
   "metadata": {
    "collapsed": false
   },
   "outputs": [
    {
     "data": {
      "text/plain": [
       "False    0.776744\n",
       "True     0.223256\n",
       "dtype: float64"
      ]
     },
     "execution_count": 20,
     "metadata": {},
     "output_type": "execute_result"
    }
   ],
   "source": [
    "df.BH2007.value_counts(1)"
   ]
  },
  {
   "cell_type": "code",
   "execution_count": 11,
   "metadata": {
    "collapsed": false
   },
   "outputs": [
    {
     "data": {
      "image/png": "[encoded data removed]",
      "text/plain": [
       "<matplotlib.figure.Figure at 0x185707b8>"
      ]
     },
     "metadata": {},
     "output_type": "display_data"
    },
    {
     "name": "stderr",
     "output_type": "stream",
     "text": [
      "C:\\Anaconda3\\lib\\site-packages\\ggplot\\geoms\\geom_bar.py:47: FutureWarning: comparison to `None` will result in an elementwise object comparison in the future.\n",
      "  _reset = self.bottom == None or (self.ax != None and self.ax != ax)\n",
      "Saving 11.0 x 8.0 in image.\n"
     ]
    },
    {
     "name": "stdout",
     "output_type": "stream",
     "text": [
      "<ggplot: (25539283)>\n"
     ]
    },
    {
     "data": {
      "image/png": "[encoded data removed]",
      "text/plain": [
       "<matplotlib.figure.Figure at 0x1015630>"
      ]
     },
     "metadata": {},
     "output_type": "display_data"
    },
    {
     "name": "stdout",
     "output_type": "stream",
     "text": [
      "<ggplot: (3060123)>\n"
     ]
    },
    {
     "name": "stderr",
     "output_type": "stream",
     "text": [
      "Saving 11.0 x 8.0 in image.\n"
     ]
    }
   ],
   "source": [
    "p1 = ggplot(aes(x='year'), data=(df))\n",
    "p11 = p1 + geom_histogram(binwidth=1) + ggtitle('Number of Utility Patents')\n",
    "print(p11)\n",
    "ggsave('Number of Utility Patents.png', plot=p11)\n",
    "\n",
    "dfhist = df[df.BH2007]\n",
    "p2 = ggplot(aes(x='year'), data=(dfhist))\n",
    "p22 = p2 + geom_histogram(binwidth=1) + ggtitle('Number of Software Patents')\n",
    "print(p2 + geom_histogram(binwidth=1) + ggtitle('Number of Software Patents'))\n",
    "ggsave('Number of Software Patents.png', plot=p22)"
   ]
  },
  {
   "cell_type": "code",
   "execution_count": 13,
   "metadata": {
    "collapsed": true
   },
   "outputs": [],
   "source": [
    "dfbar = pd.DataFrame({\"year\":[x for x in range(1976, 2016, 1)], \"Percentage of Software Patents\":[df.groupby('year')['BH2007'].value_counts(1)[x] for x in range(1,81,2)]})"
   ]
  },
  {
   "cell_type": "code",
   "execution_count": 9,
   "metadata": {
    "collapsed": false
   },
   "outputs": [
    {
     "data": {
      "image/png": "[encoded data removed]",
      "text/plain": [
       "<matplotlib.figure.Figure at 0xb1860f0>"
      ]
     },
     "metadata": {},
     "output_type": "display_data"
    },
    {
     "name": "stderr",
     "output_type": "stream",
     "text": [
      "C:\\Anaconda3\\lib\\site-packages\\ggplot\\geoms\\geom_bar.py:47: FutureWarning: comparison to `None` will result in an elementwise object comparison in the future.\n",
      "  _reset = self.bottom == None or (self.ax != None and self.ax != ax)\n",
      "Saving 11.0 x 8.0 in image.\n"
     ]
    },
    {
     "name": "stdout",
     "output_type": "stream",
     "text": [
      "<ggplot: (3920837)>\n"
     ]
    }
   ],
   "source": [
    "p33 = ggplot(aes(x=\"Year\", weight=\"Percentage of Software Patents\"), dfbar) + geom_bar(binwidth=1) + ggtitle('Share of Software Patents')\n",
    "print(p33)\n",
    "ggsave('Share of Software Patents.png', plot=p33)"
   ]
  },
  {
   "cell_type": "code",
   "execution_count": null,
   "metadata": {
    "collapsed": true
   },
   "outputs": [],
   "source": []
  }
 ],
 "metadata": {
  "kernelspec": {
   "display_name": "Python 3",
   "language": "python",
   "name": "python3"
  },
  "language_info": {
   "codemirror_mode": {
    "name": "ipython",
    "version": 3
   },
   "file_extension": ".py",
   "mimetype": "text/x-python",
   "name": "python",
   "nbconvert_exporter": "python",
   "pygments_lexer": "ipython3",
   "version": "3.6.4"
  }
 },
 "nbformat": 4,
 "nbformat_minor": 2
}

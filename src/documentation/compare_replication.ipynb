{
 "cells": [
  {
   "cell_type": "markdown",
   "metadata": {},
   "source": [
    "# Compare replication to Bessen & Hunt (2007)\n",
    "\n",
    "There is only one differently classified patent among the corpus of 399 patents from Bessen & Hunt (2007). Let us look at this specific patent."
   ]
  },
  {
   "cell_type": "code",
   "execution_count": 22,
   "metadata": {},
   "outputs": [],
   "source": [
    "import sys\n",
    "sys.path.append('../..')\n",
    "\n",
    "import pandas as pd\n",
    "import numpy as np\n",
    "\n",
    "from bld.project_paths import project_paths_join as ppj"
   ]
  },
  {
   "cell_type": "code",
   "execution_count": 23,
   "metadata": {},
   "outputs": [],
   "source": [
    "df = pd.read_pickle(ppj('OUT_ANALYSIS', 'replication_bh.pkl'))"
   ]
  },
  {
   "cell_type": "code",
   "execution_count": 24,
   "metadata": {},
   "outputs": [
    {
     "data": {
      "text/plain": [
       "CLASSIFICATION_ALGORITHM          Software\n",
       "CLASSIFICATION_MANUAL         Non-Software\n",
       "PATENTNR                           5489660\n",
       "DESCRIPTION_SOFTWARE                  True\n",
       "DESCRIPTION_COMPUTER                  True\n",
       "DESCRIPTION_PROGRAM                   True\n",
       "DESCRIPTION_CHROMATOGRAPHY            True\n",
       "CLASSIFICATION_REPLICATION    Non-Software\n",
       "Name: 9, dtype: object"
      ]
     },
     "execution_count": 24,
     "metadata": {},
     "output_type": "execute_result"
    }
   ],
   "source": [
    "df.iloc[9, np.where(df.iloc[9])[0]]"
   ]
  },
  {
   "cell_type": "markdown",
   "metadata": {},
   "source": [
    "The patent in question is no. 5489660. As one can see it has all the necessary ingredients to be classified as a software patent. But chromatography is also mentioned in the text and given the author's algorithm, it must not be mentioned in the description or the abstract. Probably, the word was overlooked while reading the patent text."
   ]
  }
 ],
 "metadata": {
  "kernelspec": {
   "display_name": "Python 3",
   "language": "python",
   "name": "python3"
  },
  "language_info": {
   "codemirror_mode": {
    "name": "ipython",
    "version": 3
   },
   "file_extension": ".py",
   "mimetype": "text/x-python",
   "name": "python",
   "nbconvert_exporter": "python",
   "pygments_lexer": "ipython3",
   "version": "3.6.4"
  }
 },
 "nbformat": 4,
 "nbformat_minor": 2
}
